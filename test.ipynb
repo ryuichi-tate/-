{
 "cells": [
  {
   "cell_type": "code",
   "execution_count": 1,
   "metadata": {},
   "outputs": [],
   "source": [
    "from PIL import Image\n",
    "from PIL import ImageFont\n",
    "from PIL import ImageDraw\n",
    "import datetime"
   ]
  },
  {
   "cell_type": "code",
   "execution_count": 2,
   "metadata": {},
   "outputs": [],
   "source": [
    "name = \"田中太郎\""
   ]
  },
  {
   "cell_type": "code",
   "execution_count": 3,
   "metadata": {},
   "outputs": [],
   "source": [
    "img_path = './Certificate-of-merit.jpg'"
   ]
  },
  {
   "cell_type": "code",
   "execution_count": 4,
   "metadata": {},
   "outputs": [],
   "source": [
    "img = Image.open(img_path).copy()"
   ]
  },
  {
   "cell_type": "code",
   "execution_count": 5,
   "metadata": {},
   "outputs": [],
   "source": [
    "def add_text_to_image(img, text, font_path, font_size, font_color, height, width, max_length=740):\n",
    "    position = (width, height)\n",
    "    font = ImageFont.truetype(font_path, font_size)\n",
    "    draw = ImageDraw.Draw(img)\n",
    "    if draw.textsize(text, font=font)[0] > max_length:\n",
    "        while draw.textsize(text + '…', font=font)[0] > max_length:\n",
    "            text = text[:-1]\n",
    "        text = text + '…'\n",
    "\n",
    "    draw.text(position, text, font_color, font=font)\n",
    "\n",
    "    return img"
   ]
  },
  {
   "cell_type": "code",
   "execution_count": 6,
   "metadata": {},
   "outputs": [],
   "source": [
    "output = add_text_to_image(\n",
    "    img=img, \n",
    "    text='認 定 証', \n",
    "    font_path='./Font/Kyokasho.ttc',\n",
    "    font_size=100, \n",
    "    font_color = (0, 0, 0), \n",
    "    height = 200, \n",
    "    width = 277\n",
    ")"
   ]
  },
  {
   "cell_type": "code",
   "execution_count": 7,
   "metadata": {},
   "outputs": [],
   "source": [
    "output = add_text_to_image(\n",
    "    img=img, \n",
    "    text=name, \n",
    "    font_path='./Font/Kyokasho.ttc',\n",
    "    font_size=80, \n",
    "    font_color = (0, 0, 0), \n",
    "    height = 390, \n",
    "    width = 250\n",
    ")"
   ]
  },
  {
   "cell_type": "code",
   "execution_count": 8,
   "metadata": {},
   "outputs": [],
   "source": [
    "output = add_text_to_image(\n",
    "    img=img, \n",
    "    text='殿', \n",
    "    font_path='./Font/Kyokasho.ttc',\n",
    "    font_size=70, \n",
    "    font_color = (0, 0, 0),\n",
    "    height = 400, \n",
    "    width = 675\n",
    ")"
   ]
  },
  {
   "cell_type": "code",
   "execution_count": 9,
   "metadata": {},
   "outputs": [],
   "source": [
    "output = add_text_to_image(\n",
    "    img=img, \n",
    "    text='　あなたは百人一首', \n",
    "    font_path='./Font/Kyokasho.ttc',\n",
    "    font_size=70, \n",
    "    font_color = (0, 0, 0),\n",
    "    height = 550, \n",
    "    width = 140\n",
    ")"
   ]
  },
  {
   "cell_type": "code",
   "execution_count": 10,
   "metadata": {},
   "outputs": [],
   "source": [
    "output = add_text_to_image(\n",
    "    img=img, \n",
    "    text='大会で　　首覚えた', \n",
    "    font_path='./Font/Kyokasho.ttc',\n",
    "    font_size=70, \n",
    "    font_color = (0, 0, 0),\n",
    "    height = 650, \n",
    "    width = 140\n",
    ")"
   ]
  },
  {
   "cell_type": "code",
   "execution_count": 11,
   "metadata": {},
   "outputs": [],
   "source": [
    "output = add_text_to_image(\n",
    "    img=img, \n",
    "    text='ことを証します', \n",
    "    font_path='./Font/Kyokasho.ttc',\n",
    "    font_size=70, \n",
    "    font_color = (0, 0, 0),\n",
    "    height = 750, \n",
    "    width = 140\n",
    ")"
   ]
  },
  {
   "cell_type": "code",
   "execution_count": 12,
   "metadata": {},
   "outputs": [],
   "source": [
    "dt_now = datetime.datetime.now()\n",
    "now = dt_now.strftime('%Y年%m月%d日')\n",
    "now = \"2020年3月1日\"\n",
    "\n",
    "output = add_text_to_image(\n",
    "    img=img, \n",
    "    text=now, \n",
    "    font_path='./Font/Kyokasho.ttc',\n",
    "    font_size=50, \n",
    "    font_color = (0, 0, 0),\n",
    "    height = 950, \n",
    "    width = 200\n",
    ")"
   ]
  },
  {
   "cell_type": "code",
   "execution_count": 13,
   "metadata": {},
   "outputs": [],
   "source": [
    "output = add_text_to_image(\n",
    "    img=img, \n",
    "    text='秀水書道教室　楯 秀翠', \n",
    "    font_path='./Font/Kyokasho.ttc',\n",
    "    font_size=50, \n",
    "    font_color = (0, 0, 0),\n",
    "    height = 1050, \n",
    "    width = 210\n",
    ")"
   ]
  },
  {
   "cell_type": "code",
   "execution_count": 14,
   "metadata": {},
   "outputs": [],
   "source": [
    "output.save('output.jpg')"
   ]
  },
  {
   "cell_type": "code",
   "execution_count": null,
   "metadata": {},
   "outputs": [],
   "source": []
  },
  {
   "cell_type": "code",
   "execution_count": null,
   "metadata": {},
   "outputs": [],
   "source": []
  },
  {
   "cell_type": "code",
   "execution_count": null,
   "metadata": {},
   "outputs": [],
   "source": []
  },
  {
   "cell_type": "code",
   "execution_count": 15,
   "metadata": {},
   "outputs": [
    {
     "name": "stdout",
     "output_type": "stream",
     "text": [
      "<class 'str'>\n",
      "<class 'str'>\n",
      "<class 'str'>\n",
      "<class 'str'>\n",
      "<class 'str'>\n",
      "<class 'str'>\n",
      "<class 'str'>\n",
      "<class 'str'>\n",
      "<class 'str'>\n",
      "<class 'str'>\n",
      "<class 'str'>\n",
      "<class 'str'>\n",
      "<class 'str'>\n",
      "<class 'str'>\n",
      "<class 'str'>\n",
      "<class 'str'>\n",
      "<class 'str'>\n",
      "<class 'str'>\n",
      "<class 'str'>\n",
      "<class 'str'>\n",
      "<class 'str'>\n",
      "<class 'str'>\n",
      "<class 'str'>\n",
      "<class 'str'>\n",
      "<class 'str'>\n"
     ]
    }
   ],
   "source": [
    "with open('names.txt', 'r') as f:\n",
    "    for line in f:\n",
    "        print(type(line))"
   ]
  },
  {
   "cell_type": "code",
   "execution_count": null,
   "metadata": {},
   "outputs": [],
   "source": []
  }
 ],
 "metadata": {
  "kernelspec": {
   "display_name": "Python 3",
   "language": "python",
   "name": "python3"
  },
  "language_info": {
   "codemirror_mode": {
    "name": "ipython",
    "version": 3
   },
   "file_extension": ".py",
   "mimetype": "text/x-python",
   "name": "python",
   "nbconvert_exporter": "python",
   "pygments_lexer": "ipython3",
   "version": "3.7.0"
  }
 },
 "nbformat": 4,
 "nbformat_minor": 2
}
